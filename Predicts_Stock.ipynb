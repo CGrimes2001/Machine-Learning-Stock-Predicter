{
  "nbformat": 4,
  "nbformat_minor": 0,
  "metadata": {
    "colab": {
      "name": "Predicts Stock.ipynb",
      "provenance": [],
      "collapsed_sections": []
    },
    "kernelspec": {
      "name": "python3",
      "display_name": "Python 3"
    }
  },
  "cells": [
    {
      "cell_type": "code",
      "metadata": {
        "id": "3zBchxKXpSQk"
      },
      "source": [
        "#Description: This program uses an artificial recurrent neural network called Long Short Term Memory (LSTM)\r\n",
        "#             To predict the closing stock price of a corporation (Apple Inc.) using the past 60 day stock price."
      ],
      "execution_count": null,
      "outputs": []
    },
    {
      "cell_type": "code",
      "metadata": {
        "id": "sFlRjljXpXQC"
      },
      "source": [
        "#Import the libraries\r\n",
        "import math\r\n",
        "import pandas_datareader as web\r\n",
        "import numpy as np\r\n",
        "import pandas as pd\r\n",
        "from sklearn.preprocessing import MinMaxScaler\r\n",
        "from keras.models import Sequential\r\n",
        "from keras.layers import Dense, LSTM\r\n",
        "from sklearn.svm import SVR\r\n",
        "import matplotlib.pyplot as plt\r\n",
        "plt.style.use('fivethirtyeight')"
      ],
      "execution_count": null,
      "outputs": []
    },
    {
      "cell_type": "code",
      "metadata": {
        "colab": {
          "base_uri": "https://localhost:8080/",
          "height": 450
        },
        "id": "FQf3g93xpcw8",
        "outputId": "8637cd34-8199-40be-c2ee-e0d391d52be6"
      },
      "source": [
        "#Get the stock quote\r\n",
        "df = web.DataReader('AAPL',data_source='yahoo', start='2012-01-01', end='2020-12-24')\r\n",
        "#Show the data\r\n",
        "df"
      ],
      "execution_count": null,
      "outputs": [
        {
          "output_type": "execute_result",
          "data": {
            "text/html": [
              "<div>\n",
              "<style scoped>\n",
              "    .dataframe tbody tr th:only-of-type {\n",
              "        vertical-align: middle;\n",
              "    }\n",
              "\n",
              "    .dataframe tbody tr th {\n",
              "        vertical-align: top;\n",
              "    }\n",
              "\n",
              "    .dataframe thead th {\n",
              "        text-align: right;\n",
              "    }\n",
              "</style>\n",
              "<table border=\"1\" class=\"dataframe\">\n",
              "  <thead>\n",
              "    <tr style=\"text-align: right;\">\n",
              "      <th></th>\n",
              "      <th>High</th>\n",
              "      <th>Low</th>\n",
              "      <th>Open</th>\n",
              "      <th>Close</th>\n",
              "      <th>Volume</th>\n",
              "      <th>Adj Close</th>\n",
              "    </tr>\n",
              "    <tr>\n",
              "      <th>Date</th>\n",
              "      <th></th>\n",
              "      <th></th>\n",
              "      <th></th>\n",
              "      <th></th>\n",
              "      <th></th>\n",
              "      <th></th>\n",
              "    </tr>\n",
              "  </thead>\n",
              "  <tbody>\n",
              "    <tr>\n",
              "      <th>2012-01-03</th>\n",
              "      <td>14.732142</td>\n",
              "      <td>14.607142</td>\n",
              "      <td>14.621428</td>\n",
              "      <td>14.686786</td>\n",
              "      <td>302220800.0</td>\n",
              "      <td>12.669562</td>\n",
              "    </tr>\n",
              "    <tr>\n",
              "      <th>2012-01-04</th>\n",
              "      <td>14.810000</td>\n",
              "      <td>14.617143</td>\n",
              "      <td>14.642858</td>\n",
              "      <td>14.765715</td>\n",
              "      <td>260022000.0</td>\n",
              "      <td>12.737655</td>\n",
              "    </tr>\n",
              "    <tr>\n",
              "      <th>2012-01-05</th>\n",
              "      <td>14.948215</td>\n",
              "      <td>14.738214</td>\n",
              "      <td>14.819643</td>\n",
              "      <td>14.929643</td>\n",
              "      <td>271269600.0</td>\n",
              "      <td>12.879071</td>\n",
              "    </tr>\n",
              "    <tr>\n",
              "      <th>2012-01-06</th>\n",
              "      <td>15.098214</td>\n",
              "      <td>14.972143</td>\n",
              "      <td>14.991786</td>\n",
              "      <td>15.085714</td>\n",
              "      <td>318292800.0</td>\n",
              "      <td>13.013705</td>\n",
              "    </tr>\n",
              "    <tr>\n",
              "      <th>2012-01-09</th>\n",
              "      <td>15.276786</td>\n",
              "      <td>15.048214</td>\n",
              "      <td>15.196428</td>\n",
              "      <td>15.061786</td>\n",
              "      <td>394024400.0</td>\n",
              "      <td>12.993064</td>\n",
              "    </tr>\n",
              "    <tr>\n",
              "      <th>...</th>\n",
              "      <td>...</td>\n",
              "      <td>...</td>\n",
              "      <td>...</td>\n",
              "      <td>...</td>\n",
              "      <td>...</td>\n",
              "      <td>...</td>\n",
              "    </tr>\n",
              "    <tr>\n",
              "      <th>2020-12-17</th>\n",
              "      <td>129.580002</td>\n",
              "      <td>128.039993</td>\n",
              "      <td>128.899994</td>\n",
              "      <td>128.699997</td>\n",
              "      <td>94359800.0</td>\n",
              "      <td>128.699997</td>\n",
              "    </tr>\n",
              "    <tr>\n",
              "      <th>2020-12-18</th>\n",
              "      <td>129.100006</td>\n",
              "      <td>126.120003</td>\n",
              "      <td>128.960007</td>\n",
              "      <td>126.660004</td>\n",
              "      <td>192541500.0</td>\n",
              "      <td>126.660004</td>\n",
              "    </tr>\n",
              "    <tr>\n",
              "      <th>2020-12-21</th>\n",
              "      <td>128.309998</td>\n",
              "      <td>123.449997</td>\n",
              "      <td>125.019997</td>\n",
              "      <td>128.229996</td>\n",
              "      <td>121251600.0</td>\n",
              "      <td>128.229996</td>\n",
              "    </tr>\n",
              "    <tr>\n",
              "      <th>2020-12-22</th>\n",
              "      <td>134.410004</td>\n",
              "      <td>129.649994</td>\n",
              "      <td>131.610001</td>\n",
              "      <td>131.880005</td>\n",
              "      <td>168904800.0</td>\n",
              "      <td>131.880005</td>\n",
              "    </tr>\n",
              "    <tr>\n",
              "      <th>2020-12-23</th>\n",
              "      <td>132.429993</td>\n",
              "      <td>130.779999</td>\n",
              "      <td>132.160004</td>\n",
              "      <td>130.960007</td>\n",
              "      <td>88051200.0</td>\n",
              "      <td>130.960007</td>\n",
              "    </tr>\n",
              "  </tbody>\n",
              "</table>\n",
              "<p>2260 rows × 6 columns</p>\n",
              "</div>"
            ],
            "text/plain": [
              "                  High         Low  ...       Volume   Adj Close\n",
              "Date                                ...                         \n",
              "2012-01-03   14.732142   14.607142  ...  302220800.0   12.669562\n",
              "2012-01-04   14.810000   14.617143  ...  260022000.0   12.737655\n",
              "2012-01-05   14.948215   14.738214  ...  271269600.0   12.879071\n",
              "2012-01-06   15.098214   14.972143  ...  318292800.0   13.013705\n",
              "2012-01-09   15.276786   15.048214  ...  394024400.0   12.993064\n",
              "...                ...         ...  ...          ...         ...\n",
              "2020-12-17  129.580002  128.039993  ...   94359800.0  128.699997\n",
              "2020-12-18  129.100006  126.120003  ...  192541500.0  126.660004\n",
              "2020-12-21  128.309998  123.449997  ...  121251600.0  128.229996\n",
              "2020-12-22  134.410004  129.649994  ...  168904800.0  131.880005\n",
              "2020-12-23  132.429993  130.779999  ...   88051200.0  130.960007\n",
              "\n",
              "[2260 rows x 6 columns]"
            ]
          },
          "metadata": {
            "tags": []
          },
          "execution_count": 4
        }
      ]
    },
    {
      "cell_type": "code",
      "metadata": {
        "colab": {
          "base_uri": "https://localhost:8080/"
        },
        "id": "h76xT2DApg89",
        "outputId": "8e66cee4-eb55-4894-fe6e-8dacf1b2d88a"
      },
      "source": [
        "#Get the number of rows and columns in the data set\r\n",
        "df.shape"
      ],
      "execution_count": null,
      "outputs": [
        {
          "output_type": "execute_result",
          "data": {
            "text/plain": [
              "(2260, 6)"
            ]
          },
          "metadata": {
            "tags": []
          },
          "execution_count": 5
        }
      ]
    },
    {
      "cell_type": "code",
      "metadata": {
        "colab": {
          "base_uri": "https://localhost:8080/",
          "height": 558
        },
        "id": "9BBOO5mBphjH",
        "outputId": "103d97f0-47bf-4971-bba9-5d43a16fbbb8"
      },
      "source": [
        "#visualise the closing price history\r\n",
        "figsize=0,0\r\n",
        "plt.figure(figsize=(16,8))\r\n",
        "plt.title('Close Price History')\r\n",
        "plt.plot(df['Close'])\r\n",
        "plt.xlabel('Date', fontsize=18)\r\n",
        "plt.ylabel('Close Price USD ($)', fontsize=18)\r\n",
        "plt.show()"
      ],
      "execution_count": null,
      "outputs": [
        {
          "output_type": "display_data",
          "data": {
            "image/png": "[encoded data removed]",
            "text/plain": [
              "<Figure size 1152x576 with 1 Axes>"
            ]
          },
          "metadata": {
            "tags": []
          }
        }
      ]
    },
    {
      "cell_type": "code",
      "metadata": {
        "colab": {
          "base_uri": "https://localhost:8080/"
        },
        "id": "m04pj6fyt2Bl",
        "outputId": "fa99c7f3-273a-4c10-a728-9caaa43bc61c"
      },
      "source": [
        "#Create a new dataframe with only the close column\r\n",
        "data = df.filter(['Close'])\r\n",
        "#Convert the dataframe to a numpy array\r\n",
        "dataset = data.values\r\n",
        "#Get the numbe of rows to train the model on\r\n",
        "training_data_len = math.ceil(len(dataset) * 0.8)          \r\n",
        "training_data_len          "
      ],
      "execution_count": null,
      "outputs": [
        {
          "output_type": "execute_result",
          "data": {
            "text/plain": [
              "1808"
            ]
          },
          "metadata": {
            "tags": []
          },
          "execution_count": 7
        }
      ]
    },
    {
      "cell_type": "code",
      "metadata": {
        "colab": {
          "base_uri": "https://localhost:8080/"
        },
        "id": "SxNNGoDev5TE",
        "outputId": "fa51d4bd-98cb-4b42-9ac4-50499e6d7426"
      },
      "source": [
        "#Scale the data\r\n",
        "scaler = MinMaxScaler(feature_range=(0,1))\r\n",
        "#Compute the minimum and maximum values to be used for scaling and then transforms the data based on the values (0-1)\r\n",
        "scaled_data = scaler.fit_transform(dataset)\r\n",
        "scaled_data\r\n"
      ],
      "execution_count": null,
      "outputs": [
        {
          "output_type": "execute_result",
          "data": {
            "text/plain": [
              "array([[0.0061488 ],\n",
              "       [0.00680527],\n",
              "       [0.00816869],\n",
              "       ...,\n",
              "       [0.95051257],\n",
              "       [0.9808705 ],\n",
              "       [0.97321867]])"
            ]
          },
          "metadata": {
            "tags": []
          },
          "execution_count": 8
        }
      ]
    },
    {
      "cell_type": "code",
      "metadata": {
        "colab": {
          "base_uri": "https://localhost:8080/"
        },
        "id": "W36D92TNwhht",
        "outputId": "d4c21f5f-be72-4a8c-9fa3-680df0accea5"
      },
      "source": [
        "#Create the training dataset\r\n",
        "#Create the scaled training dataset\r\n",
        "train_data = scaled_data[0:training_data_len, :]\r\n",
        "#Split the data into x_train and y_train data sets\r\n",
        "x_train = []\r\n",
        "y_train = []\r\n",
        "\r\n",
        "for i in range(60, len(train_data)):\r\n",
        "  x_train.append(train_data[i-60:i,0])\r\n",
        "  y_train.append(train_data[i, 0])\r\n",
        "  if i <= 61:\r\n",
        "    print(x_train)\r\n",
        "    print(y_train)\r\n",
        "    print()"
      ],
      "execution_count": null,
      "outputs": [
        {
          "output_type": "stream",
          "text": [
            "[array([0.0061488 , 0.00680527, 0.00816869, 0.00946678, 0.00926776,\n",
            "       0.00971629, 0.00951133, 0.00916676, 0.00869744, 0.01014998,\n",
            "       0.01145994, 0.01105596, 0.00884299, 0.01095496, 0.00887566,\n",
            "       0.01667305, 0.01607005, 0.01685722, 0.01855928, 0.01959001,\n",
            "       0.01950387, 0.01918604, 0.02054056, 0.02181487, 0.02325851,\n",
            "       0.0255903 , 0.03048855, 0.03056281, 0.03328967, 0.03532738,\n",
            "       0.03182524, 0.03317382, 0.03314709, 0.03692846, 0.0363908 ,\n",
            "       0.03738589, 0.0391741 , 0.0401692 , 0.04303567, 0.04512389,\n",
            "       0.04572687, 0.04593778, 0.04236733, 0.04150589, 0.04163362,\n",
            "       0.04499021, 0.04593482, 0.04796361, 0.05274602, 0.05912652,\n",
            "       0.0579324 , 0.05793537, 0.06254846, 0.06399208, 0.06296431,\n",
            "       0.06202567, 0.06104839, 0.06429507, 0.06652291, 0.06745562])]\n",
            "[0.06515055661523342]\n",
            "\n",
            "[array([0.0061488 , 0.00680527, 0.00816869, 0.00946678, 0.00926776,\n",
            "       0.00971629, 0.00951133, 0.00916676, 0.00869744, 0.01014998,\n",
            "       0.01145994, 0.01105596, 0.00884299, 0.01095496, 0.00887566,\n",
            "       0.01667305, 0.01607005, 0.01685722, 0.01855928, 0.01959001,\n",
            "       0.01950387, 0.01918604, 0.02054056, 0.02181487, 0.02325851,\n",
            "       0.0255903 , 0.03048855, 0.03056281, 0.03328967, 0.03532738,\n",
            "       0.03182524, 0.03317382, 0.03314709, 0.03692846, 0.0363908 ,\n",
            "       0.03738589, 0.0391741 , 0.0401692 , 0.04303567, 0.04512389,\n",
            "       0.04572687, 0.04593778, 0.04236733, 0.04150589, 0.04163362,\n",
            "       0.04499021, 0.04593482, 0.04796361, 0.05274602, 0.05912652,\n",
            "       0.0579324 , 0.05793537, 0.06254846, 0.06399208, 0.06296431,\n",
            "       0.06202567, 0.06104839, 0.06429507, 0.06652291, 0.06745562]), array([0.00680527, 0.00816869, 0.00946678, 0.00926776, 0.00971629,\n",
            "       0.00951133, 0.00916676, 0.00869744, 0.01014998, 0.01145994,\n",
            "       0.01105596, 0.00884299, 0.01095496, 0.00887566, 0.01667305,\n",
            "       0.01607005, 0.01685722, 0.01855928, 0.01959001, 0.01950387,\n",
            "       0.01918604, 0.02054056, 0.02181487, 0.02325851, 0.0255903 ,\n",
            "       0.03048855, 0.03056281, 0.03328967, 0.03532738, 0.03182524,\n",
            "       0.03317382, 0.03314709, 0.03692846, 0.0363908 , 0.03738589,\n",
            "       0.0391741 , 0.0401692 , 0.04303567, 0.04512389, 0.04572687,\n",
            "       0.04593778, 0.04236733, 0.04150589, 0.04163362, 0.04499021,\n",
            "       0.04593482, 0.04796361, 0.05274602, 0.05912652, 0.0579324 ,\n",
            "       0.05793537, 0.06254846, 0.06399208, 0.06296431, 0.06202567,\n",
            "       0.06104839, 0.06429507, 0.06652291, 0.06745562, 0.06515056])]\n",
            "[0.06515055661523342, 0.062088042929699744]\n",
            "\n"
          ],
          "name": "stdout"
        }
      ]
    },
    {
      "cell_type": "code",
      "metadata": {
        "id": "Xye2ayZyyPKr"
      },
      "source": [
        "#Convert the x_train and y_train datasets to numpy array\r\n",
        "x_train, y_train = np.array(x_train), np.array(y_train)"
      ],
      "execution_count": null,
      "outputs": []
    },
    {
      "cell_type": "code",
      "metadata": {
        "colab": {
          "base_uri": "https://localhost:8080/"
        },
        "id": "gycwLuKOybWN",
        "outputId": "668c377a-1219-4bd8-8c83-a6db547aac31"
      },
      "source": [
        "#Reshape the data\r\n",
        "x_train = np.reshape(x_train, (x_train.shape[0], x_train.shape[1], 1))\r\n",
        "x_train.shape"
      ],
      "execution_count": null,
      "outputs": [
        {
          "output_type": "execute_result",
          "data": {
            "text/plain": [
              "(1748, 60, 1)"
            ]
          },
          "metadata": {
            "tags": []
          },
          "execution_count": 11
        }
      ]
    },
    {
      "cell_type": "code",
      "metadata": {
        "id": "Y94v9hgOy5uN"
      },
      "source": [
        "#Build the LSTM and rbf model\r\n",
        "model = Sequential()\r\n",
        "model.add(LSTM(50, return_sequences=True, input_shape=(x_train.shape[1],1)))\r\n",
        "model.add(LSTM(50, return_sequences=False))\r\n",
        "model.add(Dense(25))\r\n",
        "model.add(Dense(1))\r\n",
        "\r\n"
      ],
      "execution_count": null,
      "outputs": []
    },
    {
      "cell_type": "code",
      "metadata": {
        "id": "Xnv8K-ulzcBV"
      },
      "source": [
        "#Compile the model\r\n",
        "model.compile(optimizer='adam', loss='mean_squared_error')"
      ],
      "execution_count": null,
      "outputs": []
    },
    {
      "cell_type": "code",
      "metadata": {
        "colab": {
          "base_uri": "https://localhost:8080/"
        },
        "id": "UOwJ-oUlzmz5",
        "outputId": "f629d80c-9318-44b3-cc03-7602ccdf6414"
      },
      "source": [
        "#Train the model\r\n",
        "#fit another name for train\r\n",
        "#batch_size is the total number of training examples present in a single batch\r\n",
        "#epochs is the number of iterations when an entire dataset is passed forwards and backwards through a neural network\r\n",
        "model.fit(x_train, y_train, batch_size=1, epochs=1)"
      ],
      "execution_count": null,
      "outputs": [
        {
          "output_type": "stream",
          "text": [
            "1748/1748 [==============================] - 43s 23ms/step - loss: 0.0010\n"
          ],
          "name": "stdout"
        },
        {
          "output_type": "execute_result",
          "data": {
            "text/plain": [
              "<tensorflow.python.keras.callbacks.History at 0x7f33c84cf748>"
            ]
          },
          "metadata": {
            "tags": []
          },
          "execution_count": 38
        }
      ]
    },
    {
      "cell_type": "code",
      "metadata": {
        "id": "yeukcLKb0URX"
      },
      "source": [
        "#Create the testing dataset\r\n",
        "#Create a new array containing scaled values from index 1748 to 2260\r\n",
        "test_data = scaled_data[training_data_len - 60: , :]\r\n",
        "#Create the data sets x_test and y_test\r\n",
        "x_test = []\r\n",
        "#y_test will be all of the values that we want our model to predict\r\n",
        "y_test = dataset[training_data_len:, :]\r\n",
        "for i in range(60, len(test_data)):\r\n",
        "  x_test.append(test_data[i-60:i, 0])\r\n",
        "  "
      ],
      "execution_count": null,
      "outputs": []
    },
    {
      "cell_type": "code",
      "metadata": {
        "id": "nLPX8MJr1QKz"
      },
      "source": [
        "#Convert the data to a numpy array\r\n",
        "x_test = np.array(x_test)\r\n",
        "#Converting to a numpy array so that we can use it in the LSTM model"
      ],
      "execution_count": null,
      "outputs": []
    },
    {
      "cell_type": "code",
      "metadata": {
        "id": "bnfATBMJ1ZQh"
      },
      "source": [
        "#Reshape the data\r\n",
        "x_test = np.reshape(x_test, (x_test.shape[0], x_test.shape[1], 1))\r\n",
        "#                            No of Rows       No of columns   #Close price"
      ],
      "execution_count": null,
      "outputs": []
    },
    {
      "cell_type": "code",
      "metadata": {
        "id": "ik0KYJpe1l63"
      },
      "source": [
        "#Get the model's predicted price values\r\n",
        "predictions = model.predict(x_test)\r\n",
        "#Unscale the values\r\n",
        "#We want predictions to contain the same values as our y_test dataset\r\n",
        "#We are getting these values based of the x_test dataset\r\n",
        "predictions = scaler.inverse_transform(predictions)\r\n",
        " "
      ],
      "execution_count": null,
      "outputs": []
    },
    {
      "cell_type": "code",
      "metadata": {
        "colab": {
          "base_uri": "https://localhost:8080/"
        },
        "id": "hmYgr8vE2XEX",
        "outputId": "1ce8b625-9411-4b0f-f364-64ed12c88a3b"
      },
      "source": [
        "#Evaluate our model\r\n",
        "#Get the root mean squared error (RMSE)\r\n",
        "#Lower the value the more accurate the predictions\r\n",
        "rmse = np.sqrt( np.mean( predictions - y_test )**2 )\r\n",
        "rmse"
      ],
      "execution_count": null,
      "outputs": [
        {
          "output_type": "execute_result",
          "data": {
            "text/plain": [
              "3.8984590969254485"
            ]
          },
          "metadata": {
            "tags": []
          },
          "execution_count": 19
        }
      ]
    },
    {
      "cell_type": "code",
      "metadata": {
        "colab": {
          "base_uri": "https://localhost:8080/",
          "height": 660
        },
        "id": "XCRthmQL26Ao",
        "outputId": "c6abf467-219c-4578-852c-3279a122b8b1"
      },
      "source": [
        "#Plot the data\r\n",
        "train = data[:training_data_len]\r\n",
        "valid = data[training_data_len:]\r\n",
        "valid['Predictions'] = predictions\r\n",
        "#Visualise the data\r\n",
        "plt.figure(figsize=(16,8))\r\n",
        "plt.title('Apple Stock vs Machine Learing Prediction')\r\n",
        "plt.xlabel('Date', fontsize=18)\r\n",
        "plt.ylabel('Close Price USD ($)', fontsize=18)\r\n",
        "plt.plot(train['Close'])\r\n",
        "plt.plot(valid[['Close', 'Predictions']])\r\n",
        "plt.legend(['Train', 'Val', 'Predictions'], loc='lower right')\r\n",
        "plt.show()"
      ],
      "execution_count": null,
      "outputs": [
        {
          "output_type": "stream",
          "text": [
            "/usr/local/lib/python3.6/dist-packages/ipykernel_launcher.py:4: SettingWithCopyWarning: \n",
            "A value is trying to be set on a copy of a slice from a DataFrame.\n",
            "Try using .loc[row_indexer,col_indexer] = value instead\n",
            "\n",
            "See the caveats in the documentation: https://pandas.pydata.org/pandas-docs/stable/user_guide/indexing.html#returning-a-view-versus-a-copy\n",
            "  after removing the cwd from sys.path.\n"
          ],
          "name": "stderr"
        },
        {
          "output_type": "display_data",
          "data": {
            "image/png": "[encoded data removed]",
            "text/plain": [
              "<Figure size 1152x576 with 1 Axes>"
            ]
          },
          "metadata": {
            "tags": []
          }
        }
      ]
    },
    {
      "cell_type": "code",
      "metadata": {
        "colab": {
          "base_uri": "https://localhost:8080/",
          "height": 450
        },
        "id": "seshr-qz4GU8",
        "outputId": "ec8fe69b-7498-444d-a4ed-a40cb0e4de8b"
      },
      "source": [
        "#Show the valid predicted prices\r\n",
        "valid"
      ],
      "execution_count": null,
      "outputs": [
        {
          "output_type": "execute_result",
          "data": {
            "text/html": [
              "<div>\n",
              "<style scoped>\n",
              "    .dataframe tbody tr th:only-of-type {\n",
              "        vertical-align: middle;\n",
              "    }\n",
              "\n",
              "    .dataframe tbody tr th {\n",
              "        vertical-align: top;\n",
              "    }\n",
              "\n",
              "    .dataframe thead th {\n",
              "        text-align: right;\n",
              "    }\n",
              "</style>\n",
              "<table border=\"1\" class=\"dataframe\">\n",
              "  <thead>\n",
              "    <tr style=\"text-align: right;\">\n",
              "      <th></th>\n",
              "      <th>Close</th>\n",
              "      <th>Predictions</th>\n",
              "    </tr>\n",
              "    <tr>\n",
              "      <th>Date</th>\n",
              "      <th></th>\n",
              "      <th></th>\n",
              "    </tr>\n",
              "  </thead>\n",
              "  <tbody>\n",
              "    <tr>\n",
              "      <th>2019-03-13</th>\n",
              "      <td>45.427502</td>\n",
              "      <td>42.894131</td>\n",
              "    </tr>\n",
              "    <tr>\n",
              "      <th>2019-03-14</th>\n",
              "      <td>45.932499</td>\n",
              "      <td>43.141659</td>\n",
              "    </tr>\n",
              "    <tr>\n",
              "      <th>2019-03-15</th>\n",
              "      <td>46.529999</td>\n",
              "      <td>43.448956</td>\n",
              "    </tr>\n",
              "    <tr>\n",
              "      <th>2019-03-18</th>\n",
              "      <td>47.005001</td>\n",
              "      <td>43.816631</td>\n",
              "    </tr>\n",
              "    <tr>\n",
              "      <th>2019-03-19</th>\n",
              "      <td>46.632500</td>\n",
              "      <td>44.228539</td>\n",
              "    </tr>\n",
              "    <tr>\n",
              "      <th>...</th>\n",
              "      <td>...</td>\n",
              "      <td>...</td>\n",
              "    </tr>\n",
              "    <tr>\n",
              "      <th>2020-12-17</th>\n",
              "      <td>128.699997</td>\n",
              "      <td>115.751320</td>\n",
              "    </tr>\n",
              "    <tr>\n",
              "      <th>2020-12-18</th>\n",
              "      <td>126.660004</td>\n",
              "      <td>116.506752</td>\n",
              "    </tr>\n",
              "    <tr>\n",
              "      <th>2020-12-21</th>\n",
              "      <td>128.229996</td>\n",
              "      <td>117.057678</td>\n",
              "    </tr>\n",
              "    <tr>\n",
              "      <th>2020-12-22</th>\n",
              "      <td>131.880005</td>\n",
              "      <td>117.592270</td>\n",
              "    </tr>\n",
              "    <tr>\n",
              "      <th>2020-12-23</th>\n",
              "      <td>130.960007</td>\n",
              "      <td>118.390282</td>\n",
              "    </tr>\n",
              "  </tbody>\n",
              "</table>\n",
              "<p>452 rows × 2 columns</p>\n",
              "</div>"
            ],
            "text/plain": [
              "                 Close  Predictions\n",
              "Date                               \n",
              "2019-03-13   45.427502    42.894131\n",
              "2019-03-14   45.932499    43.141659\n",
              "2019-03-15   46.529999    43.448956\n",
              "2019-03-18   47.005001    43.816631\n",
              "2019-03-19   46.632500    44.228539\n",
              "...                ...          ...\n",
              "2020-12-17  128.699997   115.751320\n",
              "2020-12-18  126.660004   116.506752\n",
              "2020-12-21  128.229996   117.057678\n",
              "2020-12-22  131.880005   117.592270\n",
              "2020-12-23  130.960007   118.390282\n",
              "\n",
              "[452 rows x 2 columns]"
            ]
          },
          "metadata": {
            "tags": []
          },
          "execution_count": 21
        }
      ]
    },
    {
      "cell_type": "code",
      "metadata": {
        "colab": {
          "base_uri": "https://localhost:8080/"
        },
        "id": "lTH1gv3r4Tm2",
        "outputId": "76709a14-9a44-45cd-c696-3980fa0c338b"
      },
      "source": [
        "#Predict the closing price for apple stock for date\r\n",
        "#Get the quote\r\n",
        "apple_quote = web.DataReader('AAPL', data_source='yahoo', start='2012-01-01', end='2020-12-24')\r\n",
        "#Create a new dataframe\r\n",
        "new_df = apple_quote.filter(['Close'])\r\n",
        "#Get the last 60 day closing price values and convert the dataframe to an array\r\n",
        "last_60_days = new_df[-60:].values\r\n",
        "#Scale the data to be values betweeen 0 and 1\r\n",
        "last_60_days_scaled = scaler.transform(last_60_days)\r\n",
        "#Create an empty list\r\n",
        "X_test = []\r\n",
        "#Append the past 60 days to the X_test list\r\n",
        "X_test.append(last_60_days_scaled)\r\n",
        "#Convert the X_test data set to a numpy array\r\n",
        "X_test = np.array(X_test)\r\n",
        "#Reshape the data to be 3d\r\n",
        "X_test - np.reshape(X_test, (X_test.shape[0], X_test.shape[1], 1))\r\n",
        "#Get the predicted scale price\r\n",
        "pred_price = model.predict(X_test)\r\n",
        "#undo the scaling\r\n",
        "pred_price = scaler.inverse_transform(pred_price)\r\n",
        "#This is what the model belives the predicted price will be for date\r\n",
        "print(pred_price)"
      ],
      "execution_count": null,
      "outputs": [
        {
          "output_type": "stream",
          "text": [
            "[[119.1474]]\n"
          ],
          "name": "stdout"
        }
      ]
    },
    {
      "cell_type": "code",
      "metadata": {
        "colab": {
          "base_uri": "https://localhost:8080/"
        },
        "id": "RDhlzO838CNF",
        "outputId": "100b4427-54c2-46cf-bd18-999dc5ad9441"
      },
      "source": [
        "#Get the quote\r\n",
        "apple_quote2 = web.DataReader('AAPL', data_source='yahoo', start='2020-12-24', end='2020-12-24')\r\n",
        "print(apple_quote2['Close'])"
      ],
      "execution_count": null,
      "outputs": [
        {
          "output_type": "stream",
          "text": [
            "Date\n",
            "2020-12-23    130.960007\n",
            "Name: Close, dtype: float64\n"
          ],
          "name": "stdout"
        }
      ]
    }
  ]
}